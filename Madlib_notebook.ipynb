{
 "cells": [
  {
   "cell_type": "code",
   "execution_count": 8,
   "id": "369e7387",
   "metadata": {},
   "outputs": [
    {
     "name": "stdout",
     "output_type": "stream",
     "text": [
      "Adjective: Blue\n",
      "Verb: Run\n",
      "Verb: Jump\n",
      "Famous person: Bruce Lee\n",
      "Computer programming is so Blue! It makes me so excited all the time because I love to Run. Stay hydrated and Jump like you are Bruce Lee!\n"
     ]
    }
   ],
   "source": [
    "#String Concatenation (aka how to put strings together)\n",
    "# suppose we want to create a string that says \"subscribe to _____\"\n",
    "#youtuber = \"Darrell Foster\" #some string variable\n",
    "\n",
    "# a few ways to do this\n",
    "#print(\"subscribe to \" + youtuber) \n",
    "#print(\"subscribe to {}\".format(youtuber)) #will put whatever is in the youtube container in the string\n",
    "#print(f\"subscribe to {youtuber}\")\n",
    "\n",
    "adj = input(\"Adjective: \")\n",
    "verb1 = input(\"Verb: \")\n",
    "verb2 = input(\"Verb: \")\n",
    "famous_person = input(\"Famous person: \")\n",
    "\n",
    "\n",
    "\n",
    "madlib = f\"Computer programming is so {adj}! It makes me so excited all the time because \\\n",
    "I love to {verb1}. Stay hydrated and {verb2} like you are {famous_person}!\"\n",
    "\n",
    "print(madlib)\n"
   ]
  },
  {
   "cell_type": "code",
   "execution_count": null,
   "id": "29a8e8e3",
   "metadata": {},
   "outputs": [],
   "source": []
  }
 ],
 "metadata": {
  "kernelspec": {
   "display_name": "Python 3",
   "language": "python",
   "name": "python3"
  },
  "language_info": {
   "codemirror_mode": {
    "name": "ipython",
    "version": 3
   },
   "file_extension": ".py",
   "mimetype": "text/x-python",
   "name": "python",
   "nbconvert_exporter": "python",
   "pygments_lexer": "ipython3",
   "version": "3.8.8"
  }
 },
 "nbformat": 4,
 "nbformat_minor": 5
}
